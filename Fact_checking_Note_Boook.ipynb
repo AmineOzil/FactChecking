{
 "cells": [
  {
   "cell_type": "markdown",
   "metadata": {},
   "source": [
    "#  Automatic fact-checking"
   ]
  },
  {
   "cell_type": "markdown",
   "metadata": {},
   "source": [
    "## Plan du prés-traitement "
   ]
  },
  {
   "cell_type": "markdown",
   "metadata": {},
   "source": [
    "### 1- Suppression des carcatères non ASCCI => done\n",
    "### 2- Transformation des lettres majuscules en miniscules  => la colonne texte est mise en miniscule\n",
    "### 3- Suppression de la ponctuation => done\n",
    "### 4- Stop words => deja fait\n",
    "### 5- Lematization\n",
    "Suppression des vides ( meme si on en soit y'en avait pas normalement )"
   ]
  }
 ],
 "metadata": {
  "kernelspec": {
   "display_name": "Python 3",
   "language": "python",
   "name": "python3"
  },
  "language_info": {
   "codemirror_mode": {
    "name": "ipython",
    "version": 3
   },
   "file_extension": ".py",
   "mimetype": "text/x-python",
   "name": "python",
   "nbconvert_exporter": "python",
   "pygments_lexer": "ipython3",
   "version": "3.7.4"
  }
 },
 "nbformat": 4,
 "nbformat_minor": 2
}
